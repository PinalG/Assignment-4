{
  "nbformat": 4,
  "nbformat_minor": 0,
  "metadata": {
    "colab": {
      "provenance": []
    },
    "kernelspec": {
      "name": "python3",
      "display_name": "Python 3"
    },
    "language_info": {
      "name": "python"
    }
  },
  "cells": [
    {
      "cell_type": "code",
      "execution_count": 7,
      "metadata": {
        "colab": {
          "base_uri": "https://localhost:8080/"
        },
        "id": "Y26NzTqRKw6T",
        "outputId": "4a6fb9ab-14a0-4153-fae9-36a031a3adbe"
      },
      "outputs": [
        {
          "output_type": "stream",
          "name": "stderr",
          "text": [
            "[nltk_data] Downloading package names to /root/nltk_data...\n",
            "[nltk_data]   Package names is already up-to-date!\n"
          ]
        },
        {
          "output_type": "execute_result",
          "data": {
            "text/plain": [
              "True"
            ]
          },
          "metadata": {},
          "execution_count": 7
        }
      ],
      "source": [
        "import nltk\n",
        "from sklearn.model_selection import train_test_split\n",
        "from transformers import BertTokenizer, TFBertModel\n",
        "from tensorflow.keras.layers import Input, Dense, Dropout, LSTM, Bidirectional, Reshape, GlobalAveragePooling1D\n",
        "from tensorflow.keras.models import Model\n",
        "import numpy as np\n",
        "from sklearn.metrics import confusion_matrix\n",
        "import matplotlib.pyplot as plt\n",
        "import seaborn as sns\n",
        "\n",
        "nltk.download('names')"
      ]
    },
    {
      "cell_type": "code",
      "source": [
        "male_names = nltk.corpus.names.words('male.txt')\n",
        "female_names = nltk.corpus.names.words('female.txt')\n",
        "\n",
        "data = [(name, 'male') for name in male_names] + [(name, 'female') for name in female_names]\n",
        "\n",
        "train_data, test_data = train_test_split(data, test_size=0.2, random_state=42)\n",
        "\n",
        "tokenizer = BertTokenizer.from_pretrained(\"bert-base-uncased\")\n",
        "bert_model = TFBertModel.from_pretrained(\"bert-base-uncased\")\n",
        "\n",
        "def tokenize_names(data):\n",
        "    return tokenizer([name for name, _ in data], padding=True, truncation=True, return_tensors=\"tf\")\n",
        "\n",
        "train_tokens = tokenize_names(train_data)\n",
        "test_tokens = tokenize_names(test_data)\n",
        "\n",
        "def get_bert_embeddings(tokens):\n",
        "    return np.mean(bert_model(tokens)[\"last_hidden_state\"], axis=1)\n",
        "\n",
        "train_embeddings = get_bert_embeddings(train_tokens)\n",
        "test_embeddings = get_bert_embeddings(test_tokens)\n",
        "\n",
        "train_labels = np.array([label == 'female' for _, label in train_data])\n",
        "test_labels = np.array([label == 'female' for _, label in test_data])"
      ],
      "metadata": {
        "colab": {
          "base_uri": "https://localhost:8080/"
        },
        "id": "q5_6g1LcNFW4",
        "outputId": "afbc296c-64cd-4ed2-998d-5953a0b133b7"
      },
      "execution_count": 8,
      "outputs": [
        {
          "output_type": "stream",
          "name": "stderr",
          "text": [
            "Some weights of the PyTorch model were not used when initializing the TF 2.0 model TFBertModel: ['cls.predictions.bias', 'cls.predictions.transform.LayerNorm.bias', 'cls.seq_relationship.weight', 'cls.predictions.transform.LayerNorm.weight', 'cls.predictions.transform.dense.bias', 'cls.predictions.transform.dense.weight', 'cls.seq_relationship.bias']\n",
            "- This IS expected if you are initializing TFBertModel from a PyTorch model trained on another task or with another architecture (e.g. initializing a TFBertForSequenceClassification model from a BertForPreTraining model).\n",
            "- This IS NOT expected if you are initializing TFBertModel from a PyTorch model that you expect to be exactly identical (e.g. initializing a TFBertForSequenceClassification model from a BertForSequenceClassification model).\n",
            "All the weights of TFBertModel were initialized from the PyTorch model.\n",
            "If your task is similar to the task the model of the checkpoint was trained on, you can already use TFBertModel for predictions without further training.\n"
          ]
        }
      ]
    },
    {
      "cell_type": "code",
      "source": [
        "inputs = Input(shape=(train_embeddings.shape[1],))\n",
        "x = Dense(128, activation='relu')(inputs)\n",
        "x = Dropout(0.2)(x)\n",
        "outputs = Dense(1, activation='sigmoid')(x)\n",
        "model_transformer = Model(inputs=inputs, outputs=outputs)\n",
        "model_transformer.compile(optimizer='adam', loss='binary_crossentropy', metrics=['accuracy'])\n",
        "model_transformer.summary()\n",
        "\n",
        "history_transformer = model_transformer.fit(train_embeddings, train_labels, epochs=5, batch_size=32)\n",
        "\n",
        "transformer_loss, transformer_accuracy = model_transformer.evaluate(test_embeddings, test_labels)\n",
        "print(\"Transformer-Based Classifier - Test Accuracy:\", transformer_accuracy)"
      ],
      "metadata": {
        "colab": {
          "base_uri": "https://localhost:8080/"
        },
        "id": "SKQRbHxjNFZ3",
        "outputId": "a85be826-aea6-44c6-fef9-fa2fd40fe553"
      },
      "execution_count": 9,
      "outputs": [
        {
          "output_type": "stream",
          "name": "stdout",
          "text": [
            "Model: \"model_2\"\n",
            "_________________________________________________________________\n",
            " Layer (type)                Output Shape              Param #   \n",
            "=================================================================\n",
            " input_3 (InputLayer)        [(None, 768)]             0         \n",
            "                                                                 \n",
            " dense_4 (Dense)             (None, 128)               98432     \n",
            "                                                                 \n",
            " dropout_1 (Dropout)         (None, 128)               0         \n",
            "                                                                 \n",
            " dense_5 (Dense)             (None, 1)                 129       \n",
            "                                                                 \n",
            "=================================================================\n",
            "Total params: 98561 (385.00 KB)\n",
            "Trainable params: 98561 (385.00 KB)\n",
            "Non-trainable params: 0 (0.00 Byte)\n",
            "_________________________________________________________________\n",
            "Epoch 1/5\n",
            "199/199 [==============================] - 2s 4ms/step - loss: 0.3964 - accuracy: 0.8245\n",
            "Epoch 2/5\n",
            "199/199 [==============================] - 1s 4ms/step - loss: 0.3239 - accuracy: 0.8651\n",
            "Epoch 3/5\n",
            "199/199 [==============================] - 1s 4ms/step - loss: 0.3063 - accuracy: 0.8708\n",
            "Epoch 4/5\n",
            "199/199 [==============================] - 1s 4ms/step - loss: 0.2938 - accuracy: 0.8751\n",
            "Epoch 5/5\n",
            "199/199 [==============================] - 1s 4ms/step - loss: 0.2842 - accuracy: 0.8804\n",
            "50/50 [==============================] - 0s 2ms/step - loss: 0.3461 - accuracy: 0.8527\n",
            "Transformer-Based Classifier - Test Accuracy: 0.852737545967102\n"
          ]
        }
      ]
    },
    {
      "cell_type": "code",
      "source": [
        "inputs = Input(shape=(train_embeddings.shape[1],))\n",
        "x = Reshape((1, train_embeddings.shape[1]))(inputs)\n",
        "x = Bidirectional(LSTM(128, return_sequences=True))(x)\n",
        "x = Bidirectional(LSTM(64))(x)\n",
        "x = Dense(64, activation='relu')(x)\n",
        "outputs = Dense(1, activation='sigmoid')(x)\n",
        "model_lstm = Model(inputs=inputs, outputs=outputs)\n",
        "model_lstm.compile(optimizer='adam', loss='binary_crossentropy', metrics=['accuracy'])\n",
        "model_lstm.summary()\n",
        "\n",
        "history_lstm = model_lstm.fit(train_embeddings, train_labels, epochs=5, batch_size=32, validation_split=0.1)\n",
        "\n",
        "lstm_loss, lstm_accuracy = model_lstm.evaluate(test_embeddings, test_labels)\n",
        "print(\"LSTM-Based Classifier - Test Accuracy:\", lstm_accuracy)"
      ],
      "metadata": {
        "colab": {
          "base_uri": "https://localhost:8080/"
        },
        "id": "t_2uFMnlNQRY",
        "outputId": "07231ec5-555a-4c0b-caf3-dedfb09985a6"
      },
      "execution_count": 10,
      "outputs": [
        {
          "output_type": "stream",
          "name": "stdout",
          "text": [
            "Model: \"model_3\"\n",
            "_________________________________________________________________\n",
            " Layer (type)                Output Shape              Param #   \n",
            "=================================================================\n",
            " input_4 (InputLayer)        [(None, 768)]             0         \n",
            "                                                                 \n",
            " reshape_1 (Reshape)         (None, 1, 768)            0         \n",
            "                                                                 \n",
            " bidirectional_2 (Bidirecti  (None, 1, 256)            918528    \n",
            " onal)                                                           \n",
            "                                                                 \n",
            " bidirectional_3 (Bidirecti  (None, 128)               164352    \n",
            " onal)                                                           \n",
            "                                                                 \n",
            " dense_6 (Dense)             (None, 64)                8256      \n",
            "                                                                 \n",
            " dense_7 (Dense)             (None, 1)                 65        \n",
            "                                                                 \n",
            "=================================================================\n",
            "Total params: 1091201 (4.16 MB)\n",
            "Trainable params: 1091201 (4.16 MB)\n",
            "Non-trainable params: 0 (0.00 Byte)\n",
            "_________________________________________________________________\n",
            "Epoch 1/5\n",
            "179/179 [==============================] - 10s 23ms/step - loss: 0.3925 - accuracy: 0.8243 - val_loss: 0.3312 - val_accuracy: 0.8664\n",
            "Epoch 2/5\n",
            "179/179 [==============================] - 4s 20ms/step - loss: 0.3179 - accuracy: 0.8657 - val_loss: 0.3978 - val_accuracy: 0.8381\n",
            "Epoch 3/5\n",
            "179/179 [==============================] - 4s 23ms/step - loss: 0.2947 - accuracy: 0.8755 - val_loss: 0.3348 - val_accuracy: 0.8538\n",
            "Epoch 4/5\n",
            "179/179 [==============================] - 3s 18ms/step - loss: 0.2785 - accuracy: 0.8818 - val_loss: 0.3395 - val_accuracy: 0.8585\n",
            "Epoch 5/5\n",
            "179/179 [==============================] - 3s 19ms/step - loss: 0.2594 - accuracy: 0.8914 - val_loss: 0.3547 - val_accuracy: 0.8506\n",
            "50/50 [==============================] - 0s 9ms/step - loss: 0.3660 - accuracy: 0.8546\n",
            "LSTM-Based Classifier - Test Accuracy: 0.8546255230903625\n"
          ]
        }
      ]
    },
    {
      "cell_type": "code",
      "source": [
        "transformer_predictions = (model_transformer.predict(test_embeddings) > 0.5).astype(int)\n",
        "lstm_predictions = (model_lstm.predict(test_embeddings) > 0.5).astype(int)\n",
        "transformer_cm = confusion_matrix(test_labels, transformer_predictions)\n",
        "lstm_cm = confusion_matrix(test_labels, lstm_predictions)\n",
        "\n",
        "plt.figure(figsize=(12, 6))\n",
        "\n",
        "plt.subplot(1, 2, 1)\n",
        "sns.heatmap(transformer_cm, annot=True, fmt='d', cmap='Blues', cbar=False)\n",
        "plt.title('Transformer-Based Classifier')\n",
        "plt.xlabel('Predicted Label')\n",
        "plt.ylabel('True Label')\n",
        "\n",
        "plt.subplot(1, 2, 2)\n",
        "sns.heatmap(lstm_cm, annot=True, fmt='d', cmap='Blues', cbar=False)\n",
        "plt.title('LSTM-Based Classifier')\n",
        "plt.xlabel('Predicted Label')\n",
        "plt.ylabel('True Label')\n",
        "\n",
        "plt.tight_layout()\n",
        "plt.show()"
      ],
      "metadata": {
        "colab": {
          "base_uri": "https://localhost:8080/",
          "height": 642
        },
        "id": "c0x9ggJ6Mq0p",
        "outputId": "0c4323a7-ff5d-42f1-f7ee-cc556a47bbab"
      },
      "execution_count": 11,
      "outputs": [
        {
          "output_type": "stream",
          "name": "stdout",
          "text": [
            "50/50 [==============================] - 0s 3ms/step\n",
            "50/50 [==============================] - 1s 6ms/step\n"
          ]
        },
        {
          "output_type": "display_data",
          "data": {
            "text/plain": [
              "<Figure size 1200x600 with 2 Axes>"
            ],
            "image/png": "[encoded data removed]"
          },
          "metadata": {}
        }
      ]
    },
    {
      "cell_type": "markdown",
      "source": [
        "\n",
        "From the confusion matrix we can see the top-left cell of the transformer-based classifier confusion matrix, the model predicted 511 times in transformer while for LSTM it is 489, and these predictions were all correct (true positives). For th\n",
        "\n",
        "LSTMs may not capture the same level of semantic information as transformer-based models, potentially leading to suboptimal performance on tasks requiring a deep understanding of language semantics.\n",
        "\n",
        "In summary, while both approaches have their advantages and disadvantages, the choice between encoder-decoder and LSTM approaches depends on factors such as the availability of computational resources, the size of the labeled dataset, and the desired level of performance and generalization.\n",
        "\n",
        "Overall, by comparing the number of correct predictions 511 to the number of incorrect predictions 110, and for LSTM it is 489 to the number of incorrect predictions 132, we can determine that Transformer model performed better on the classification task.\n"
      ],
      "metadata": {
        "id": "8hjDW698Nvpx"
      }
    }
  ]
}